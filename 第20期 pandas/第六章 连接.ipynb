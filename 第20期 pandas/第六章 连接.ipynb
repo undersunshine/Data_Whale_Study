{
 "metadata": {
  "language_info": {
   "codemirror_mode": {
    "name": "ipython",
    "version": 3
   },
   "file_extension": ".py",
   "mimetype": "text/x-python",
   "name": "python",
   "nbconvert_exporter": "python",
   "pygments_lexer": "ipython3",
   "version": "3.8.3-final"
  },
  "orig_nbformat": 2,
  "kernelspec": {
   "name": "python3",
   "display_name": "Python 3.8.3 64-bit (conda)",
   "metadata": {
    "interpreter": {
     "hash": "b3ba2566441a7c06988d0923437866b63cedc61552a5af99d1f4fb67d367b25f"
    }
   }
  }
 },
 "nbformat": 4,
 "nbformat_minor": 2,
 "cells": [
  {
   "cell_type": "code",
   "execution_count": 2,
   "metadata": {},
   "outputs": [],
   "source": [
    "import numpy as np\n",
    "import pandas as pd\n",
    "import matplotlib.pyplot as plt"
   ]
  },
  {
   "source": [
    "## 第六章 连接\n",
    "### Ex1：美国疫情数据集"
   ],
   "cell_type": "markdown",
   "metadata": {}
  },
  {
   "cell_type": "code",
   "execution_count": 6,
   "metadata": {},
   "outputs": [],
   "source": [
    "date = pd.date_range('20200412', '20201116').to_series()\n",
    "date = date.dt.month.astype('str').astype('string').str.zfill(2) +'-'+ date.dt.day.astype('str').astype('string').str.zfill(2) +'-'+ '2020'\n",
    "date = date.tolist()"
   ]
  },
  {
   "cell_type": "code",
   "execution_count": 7,
   "metadata": {},
   "outputs": [
    {
     "output_type": "execute_result",
     "data": {
      "text/plain": [
       "           Confirmed Deaths Recovered  Active\n",
       "04-12-2020    189033   9385     23887  179648\n",
       "04-13-2020    195749  10058     23887  185691\n",
       "04-14-2020    203020  10842     23887  192178\n",
       "04-15-2020    214454  11617     23887  202837\n",
       "04-16-2020    223691  14832     23887  208859"
      ],
      "text/html": "<div>\n<style scoped>\n    .dataframe tbody tr th:only-of-type {\n        vertical-align: middle;\n    }\n\n    .dataframe tbody tr th {\n        vertical-align: top;\n    }\n\n    .dataframe thead th {\n        text-align: right;\n    }\n</style>\n<table border=\"1\" class=\"dataframe\">\n  <thead>\n    <tr style=\"text-align: right;\">\n      <th></th>\n      <th>Confirmed</th>\n      <th>Deaths</th>\n      <th>Recovered</th>\n      <th>Active</th>\n    </tr>\n  </thead>\n  <tbody>\n    <tr>\n      <th>04-12-2020</th>\n      <td>189033</td>\n      <td>9385</td>\n      <td>23887</td>\n      <td>179648</td>\n    </tr>\n    <tr>\n      <th>04-13-2020</th>\n      <td>195749</td>\n      <td>10058</td>\n      <td>23887</td>\n      <td>185691</td>\n    </tr>\n    <tr>\n      <th>04-14-2020</th>\n      <td>203020</td>\n      <td>10842</td>\n      <td>23887</td>\n      <td>192178</td>\n    </tr>\n    <tr>\n      <th>04-15-2020</th>\n      <td>214454</td>\n      <td>11617</td>\n      <td>23887</td>\n      <td>202837</td>\n    </tr>\n    <tr>\n      <th>04-16-2020</th>\n      <td>223691</td>\n      <td>14832</td>\n      <td>23887</td>\n      <td>208859</td>\n    </tr>\n  </tbody>\n</table>\n</div>"
     },
     "metadata": {},
     "execution_count": 7
    }
   ],
   "source": [
    "L = []\n",
    "for d in date:\n",
    "    df = pd.read_csv('./data/us_report/' + d + '.csv', index_col='Province_State')\n",
    "    data = df.loc['New York', ['Confirmed','Deaths','Recovered','Active']]\n",
    "    L.append(data.to_frame().T)\n",
    "res = pd.concat(L)\n",
    "res.index = date\n",
    "res.head()"
   ]
  },
  {
   "source": [
    "### Ex2：实现join函数"
   ],
   "cell_type": "markdown",
   "metadata": {}
  },
  {
   "cell_type": "code",
   "execution_count": 8,
   "metadata": {},
   "outputs": [],
   "source": [
    "def join(df1, df2, how='left'):\n",
    "    res_col = df1.columns.tolist() +  df2.columns.tolist()\n",
    "    dup = df1.index.unique().intersection(df2.index.unique())\n",
    "    res_df = pd.DataFrame(columns = res_col)\n",
    "    for label in dup:\n",
    "        cartesian = [list(i)+list(j) for i in df1.loc[label].values for j in df2.loc[label].values]\n",
    "        dup_df = pd.DataFrame(cartesian, index = [label]*len(cartesian), columns = res_col)\n",
    "        res_df = pd.concat([res_df,dup_df])\n",
    "    if how in ['left', 'outer']:\n",
    "        for label in df1.index.unique().difference(dup):\n",
    "            if isinstance(df1.loc[label], pd.DataFrame):\n",
    "                cat = [list(i)+[np.nan]*df2.shape[1] for i in df1.loc[label].values]\n",
    "            else:\n",
    "                cat = [list(i)+[np.nan]*df2.shape[1] for i in df1.loc[label].to_frame().values]\n",
    "            dup_df = pd.DataFrame(cat, index = [label]*len(cat), columns = res_col)\n",
    "            res_df = pd.concat([res_df,dup_df])\n",
    "    if how in ['right', 'outer']:\n",
    "        for label in df2.index.unique().difference(dup):\n",
    "            if isinstance(df2.loc[label], pd.DataFrame):\n",
    "                cat = [[np.nan]+list(i)*df1.shape[1] for i in df2.loc[label].values]\n",
    "            else:\n",
    "                cat = [[np.nan]+list(i)*df1.shape[1] for i in df2.loc[label].to_frame().values]\n",
    "            dup_df = pd.DataFrame(cat, index = [label]*len(cat), columns = res_col)\n",
    "            res_df = pd.concat([res_df,dup_df])\n",
    "    return res_df"
   ]
  },
  {
   "cell_type": "code",
   "execution_count": 9,
   "metadata": {},
   "outputs": [
    {
     "output_type": "execute_result",
     "data": {
      "text/plain": [
       "  col1\n",
       "A    0\n",
       "A    1\n",
       "B    2\n",
       "C    3\n",
       "D    4"
      ],
      "text/html": "<div>\n<style scoped>\n    .dataframe tbody tr th:only-of-type {\n        vertical-align: middle;\n    }\n\n    .dataframe tbody tr th {\n        vertical-align: top;\n    }\n\n    .dataframe thead th {\n        text-align: right;\n    }\n</style>\n<table border=\"1\" class=\"dataframe\">\n  <thead>\n    <tr style=\"text-align: right;\">\n      <th></th>\n      <th>col1</th>\n    </tr>\n  </thead>\n  <tbody>\n    <tr>\n      <th>A</th>\n      <td>0</td>\n    </tr>\n    <tr>\n      <th>A</th>\n      <td>1</td>\n    </tr>\n    <tr>\n      <th>B</th>\n      <td>2</td>\n    </tr>\n    <tr>\n      <th>C</th>\n      <td>3</td>\n    </tr>\n    <tr>\n      <th>D</th>\n      <td>4</td>\n    </tr>\n  </tbody>\n</table>\n</div>"
     },
     "metadata": {},
     "execution_count": 9
    }
   ],
   "source": [
    "df1 = pd.DataFrame({'col1':list('01234')}, index=list('AABCD'))\n",
    "df1"
   ]
  },
  {
   "cell_type": "code",
   "execution_count": 10,
   "metadata": {},
   "outputs": [
    {
     "output_type": "execute_result",
     "data": {
      "text/plain": [
       "  col2\n",
       "A    o\n",
       "B    p\n",
       "B    q\n",
       "C    r\n",
       "E    s\n",
       "E    t"
      ],
      "text/html": "<div>\n<style scoped>\n    .dataframe tbody tr th:only-of-type {\n        vertical-align: middle;\n    }\n\n    .dataframe tbody tr th {\n        vertical-align: top;\n    }\n\n    .dataframe thead th {\n        text-align: right;\n    }\n</style>\n<table border=\"1\" class=\"dataframe\">\n  <thead>\n    <tr style=\"text-align: right;\">\n      <th></th>\n      <th>col2</th>\n    </tr>\n  </thead>\n  <tbody>\n    <tr>\n      <th>A</th>\n      <td>o</td>\n    </tr>\n    <tr>\n      <th>B</th>\n      <td>p</td>\n    </tr>\n    <tr>\n      <th>B</th>\n      <td>q</td>\n    </tr>\n    <tr>\n      <th>C</th>\n      <td>r</td>\n    </tr>\n    <tr>\n      <th>E</th>\n      <td>s</td>\n    </tr>\n    <tr>\n      <th>E</th>\n      <td>t</td>\n    </tr>\n  </tbody>\n</table>\n</div>"
     },
     "metadata": {},
     "execution_count": 10
    }
   ],
   "source": [
    "df2 = pd.DataFrame({'col2':list('opqrst')}, index=list('ABBCEE'))\n",
    "df2"
   ]
  },
  {
   "cell_type": "code",
   "execution_count": 11,
   "metadata": {},
   "outputs": [
    {
     "output_type": "execute_result",
     "data": {
      "text/plain": [
       "  col1 col2\n",
       "A    0    o\n",
       "A    1    o\n",
       "B    2    p\n",
       "B    2    q\n",
       "C    3    r\n",
       "D    4  NaN\n",
       "E  NaN    s\n",
       "E  NaN    t"
      ],
      "text/html": "<div>\n<style scoped>\n    .dataframe tbody tr th:only-of-type {\n        vertical-align: middle;\n    }\n\n    .dataframe tbody tr th {\n        vertical-align: top;\n    }\n\n    .dataframe thead th {\n        text-align: right;\n    }\n</style>\n<table border=\"1\" class=\"dataframe\">\n  <thead>\n    <tr style=\"text-align: right;\">\n      <th></th>\n      <th>col1</th>\n      <th>col2</th>\n    </tr>\n  </thead>\n  <tbody>\n    <tr>\n      <th>A</th>\n      <td>0</td>\n      <td>o</td>\n    </tr>\n    <tr>\n      <th>A</th>\n      <td>1</td>\n      <td>o</td>\n    </tr>\n    <tr>\n      <th>B</th>\n      <td>2</td>\n      <td>p</td>\n    </tr>\n    <tr>\n      <th>B</th>\n      <td>2</td>\n      <td>q</td>\n    </tr>\n    <tr>\n      <th>C</th>\n      <td>3</td>\n      <td>r</td>\n    </tr>\n    <tr>\n      <th>D</th>\n      <td>4</td>\n      <td>NaN</td>\n    </tr>\n    <tr>\n      <th>E</th>\n      <td>NaN</td>\n      <td>s</td>\n    </tr>\n    <tr>\n      <th>E</th>\n      <td>NaN</td>\n      <td>t</td>\n    </tr>\n  </tbody>\n</table>\n</div>"
     },
     "metadata": {},
     "execution_count": 11
    }
   ],
   "source": [
    "join(df1, df2, how='outer')"
   ]
  },
  {
   "cell_type": "code",
   "execution_count": null,
   "metadata": {},
   "outputs": [],
   "source": []
  }
 ]
}