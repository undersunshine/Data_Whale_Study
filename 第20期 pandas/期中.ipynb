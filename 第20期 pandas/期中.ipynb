{
 "metadata": {
  "language_info": {
   "codemirror_mode": {
    "name": "ipython",
    "version": 3
   },
   "file_extension": ".py",
   "mimetype": "text/x-python",
   "name": "python",
   "nbconvert_exporter": "python",
   "pygments_lexer": "ipython3",
   "version": "3.8.3-final"
  },
  "orig_nbformat": 2,
  "kernelspec": {
   "name": "python3",
   "display_name": "Python 3.8.3 64-bit (conda)",
   "metadata": {
    "interpreter": {
     "hash": "b3ba2566441a7c06988d0923437866b63cedc61552a5af99d1f4fb67d367b25f"
    }
   }
  }
 },
 "nbformat": 4,
 "nbformat_minor": 2,
 "cells": [
  {
   "cell_type": "code",
   "execution_count": 1,
   "metadata": {},
   "outputs": [],
   "source": [
    "import numpy as np\n",
    "import pandas as pd\n",
    "import matplotlib.pyplot as plt"
   ]
  },
  {
   "cell_type": "code",
   "execution_count": 6,
   "metadata": {},
   "outputs": [
    {
     "output_type": "execute_result",
     "data": {
      "text/plain": [
       "      证券代码    日期\n",
       "0  #000007  2014\n",
       "1  #000403  2015\n",
       "2  #000408  2016\n",
       "3  #000408  2017\n",
       "4  #000426  2015"
      ],
      "text/html": "<div>\n<style scoped>\n    .dataframe tbody tr th:only-of-type {\n        vertical-align: middle;\n    }\n\n    .dataframe tbody tr th {\n        vertical-align: top;\n    }\n\n    .dataframe thead th {\n        text-align: right;\n    }\n</style>\n<table border=\"1\" class=\"dataframe\">\n  <thead>\n    <tr style=\"text-align: right;\">\n      <th></th>\n      <th>证券代码</th>\n      <th>日期</th>\n    </tr>\n  </thead>\n  <tbody>\n    <tr>\n      <th>0</th>\n      <td>#000007</td>\n      <td>2014</td>\n    </tr>\n    <tr>\n      <th>1</th>\n      <td>#000403</td>\n      <td>2015</td>\n    </tr>\n    <tr>\n      <th>2</th>\n      <td>#000408</td>\n      <td>2016</td>\n    </tr>\n    <tr>\n      <th>3</th>\n      <td>#000408</td>\n      <td>2017</td>\n    </tr>\n    <tr>\n      <th>4</th>\n      <td>#000426</td>\n      <td>2015</td>\n    </tr>\n  </tbody>\n</table>\n</div>"
     },
     "metadata": {},
     "execution_count": 6
    }
   ],
   "source": [
    "df1 = pd.read_csv('company.csv')\n",
    "df2 = pd.read_csv('company_data.csv')\n",
    "df1.head()"
   ]
  },
  {
   "cell_type": "code",
   "execution_count": 7,
   "metadata": {},
   "outputs": [
    {
     "output_type": "execute_result",
     "data": {
      "text/plain": [
       "   证券代码          日期  收入类型           收入额\n",
       "0     1  2008/12/31     1  1.084218e+10\n",
       "1     1  2008/12/31     2  1.259789e+10\n",
       "2     1  2008/12/31     3  1.451312e+10\n",
       "3     1  2008/12/31     4  1.063843e+09\n",
       "4     1  2008/12/31     5  8.513880e+08"
      ],
      "text/html": "<div>\n<style scoped>\n    .dataframe tbody tr th:only-of-type {\n        vertical-align: middle;\n    }\n\n    .dataframe tbody tr th {\n        vertical-align: top;\n    }\n\n    .dataframe thead th {\n        text-align: right;\n    }\n</style>\n<table border=\"1\" class=\"dataframe\">\n  <thead>\n    <tr style=\"text-align: right;\">\n      <th></th>\n      <th>证券代码</th>\n      <th>日期</th>\n      <th>收入类型</th>\n      <th>收入额</th>\n    </tr>\n  </thead>\n  <tbody>\n    <tr>\n      <th>0</th>\n      <td>1</td>\n      <td>2008/12/31</td>\n      <td>1</td>\n      <td>1.084218e+10</td>\n    </tr>\n    <tr>\n      <th>1</th>\n      <td>1</td>\n      <td>2008/12/31</td>\n      <td>2</td>\n      <td>1.259789e+10</td>\n    </tr>\n    <tr>\n      <th>2</th>\n      <td>1</td>\n      <td>2008/12/31</td>\n      <td>3</td>\n      <td>1.451312e+10</td>\n    </tr>\n    <tr>\n      <th>3</th>\n      <td>1</td>\n      <td>2008/12/31</td>\n      <td>4</td>\n      <td>1.063843e+09</td>\n    </tr>\n    <tr>\n      <th>4</th>\n      <td>1</td>\n      <td>2008/12/31</td>\n      <td>5</td>\n      <td>8.513880e+08</td>\n    </tr>\n  </tbody>\n</table>\n</div>"
     },
     "metadata": {},
     "execution_count": 7
    }
   ],
   "source": [
    "df2.head()"
   ]
  },
  {
   "cell_type": "code",
   "execution_count": 16,
   "metadata": {},
   "outputs": [
    {
     "output_type": "execute_result",
     "data": {
      "text/plain": [
       "   证券代码          日期  收入类型           收入额   日期2\n",
       "0     1  2008/12/31     1  1.084218e+10  2008\n",
       "1     1  2008/12/31     2  1.259789e+10  2008\n",
       "2     1  2008/12/31     3  1.451312e+10  2008\n",
       "3     1  2008/12/31     4  1.063843e+09  2008\n",
       "4     1  2008/12/31     5  8.513880e+08  2008"
      ],
      "text/html": "<div>\n<style scoped>\n    .dataframe tbody tr th:only-of-type {\n        vertical-align: middle;\n    }\n\n    .dataframe tbody tr th {\n        vertical-align: top;\n    }\n\n    .dataframe thead th {\n        text-align: right;\n    }\n</style>\n<table border=\"1\" class=\"dataframe\">\n  <thead>\n    <tr style=\"text-align: right;\">\n      <th></th>\n      <th>证券代码</th>\n      <th>日期</th>\n      <th>收入类型</th>\n      <th>收入额</th>\n      <th>日期2</th>\n    </tr>\n  </thead>\n  <tbody>\n    <tr>\n      <th>0</th>\n      <td>1</td>\n      <td>2008/12/31</td>\n      <td>1</td>\n      <td>1.084218e+10</td>\n      <td>2008</td>\n    </tr>\n    <tr>\n      <th>1</th>\n      <td>1</td>\n      <td>2008/12/31</td>\n      <td>2</td>\n      <td>1.259789e+10</td>\n      <td>2008</td>\n    </tr>\n    <tr>\n      <th>2</th>\n      <td>1</td>\n      <td>2008/12/31</td>\n      <td>3</td>\n      <td>1.451312e+10</td>\n      <td>2008</td>\n    </tr>\n    <tr>\n      <th>3</th>\n      <td>1</td>\n      <td>2008/12/31</td>\n      <td>4</td>\n      <td>1.063843e+09</td>\n      <td>2008</td>\n    </tr>\n    <tr>\n      <th>4</th>\n      <td>1</td>\n      <td>2008/12/31</td>\n      <td>5</td>\n      <td>8.513880e+08</td>\n      <td>2008</td>\n    </tr>\n  </tbody>\n</table>\n</div>"
     },
     "metadata": {},
     "execution_count": 16
    }
   ],
   "source": [
    "df2['日期2'] = df2['日期'].apply(lambda x: int(x[0:4]))\n",
    "df2.head()"
   ]
  },
  {
   "cell_type": "code",
   "execution_count": 38,
   "metadata": {},
   "outputs": [
    {
     "output_type": "execute_result",
     "data": {
      "text/plain": [
       "      证券代码    日期  证券代码2  entropy\n",
       "0  #000007  2014      7        0\n",
       "1  #000403  2015    403        0\n",
       "2  #000408  2016    408        0\n",
       "3  #000408  2017    408        0\n",
       "4  #000426  2015    426        0"
      ],
      "text/html": "<div>\n<style scoped>\n    .dataframe tbody tr th:only-of-type {\n        vertical-align: middle;\n    }\n\n    .dataframe tbody tr th {\n        vertical-align: top;\n    }\n\n    .dataframe thead th {\n        text-align: right;\n    }\n</style>\n<table border=\"1\" class=\"dataframe\">\n  <thead>\n    <tr style=\"text-align: right;\">\n      <th></th>\n      <th>证券代码</th>\n      <th>日期</th>\n      <th>证券代码2</th>\n      <th>entropy</th>\n    </tr>\n  </thead>\n  <tbody>\n    <tr>\n      <th>0</th>\n      <td>#000007</td>\n      <td>2014</td>\n      <td>7</td>\n      <td>0</td>\n    </tr>\n    <tr>\n      <th>1</th>\n      <td>#000403</td>\n      <td>2015</td>\n      <td>403</td>\n      <td>0</td>\n    </tr>\n    <tr>\n      <th>2</th>\n      <td>#000408</td>\n      <td>2016</td>\n      <td>408</td>\n      <td>0</td>\n    </tr>\n    <tr>\n      <th>3</th>\n      <td>#000408</td>\n      <td>2017</td>\n      <td>408</td>\n      <td>0</td>\n    </tr>\n    <tr>\n      <th>4</th>\n      <td>#000426</td>\n      <td>2015</td>\n      <td>426</td>\n      <td>0</td>\n    </tr>\n  </tbody>\n</table>\n</div>"
     },
     "metadata": {},
     "execution_count": 38
    }
   ],
   "source": [
    "df1['证券代码2'] = df1['证券代码'].apply(lambda x: int(x[1::]))\n",
    "df1['entropy'] = 0\n",
    "df1.head()"
   ]
  },
  {
   "cell_type": "code",
   "execution_count": 39,
   "metadata": {},
   "outputs": [],
   "source": [
    "for ind in df1.index:\n",
    "    s_code = df1.loc[ind, '证券代码2']\n",
    "    date = df1.loc[ind, '日期']\n",
    "    tmp = df2[(df2['证券代码']==s_code)&(df2['日期2']==date)]\n",
    "    a = tmp['收入额'].values\n",
    "    a = a[a>0]\n",
    "    if len(a) == 0:\n",
    "        df1.loc[ind,'entropy'] = 0\n",
    "        continue\n",
    "    tot = a.sum()\n",
    "    for b in a:\n",
    "        df1.loc[ind,'entropy'] = df1.loc[ind,'entropy'] - b / tot * np.log( b / tot )\n",
    "\n"
   ]
  },
  {
   "cell_type": "code",
   "execution_count": 40,
   "metadata": {},
   "outputs": [
    {
     "output_type": "execute_result",
     "data": {
      "text/plain": [
       "      证券代码    日期  证券代码2   entropy\n",
       "0  #000007  2014      7  3.070462\n",
       "1  #000403  2015    403  2.790585\n",
       "2  #000408  2016    408  2.818541\n",
       "3  #000408  2017    408  0.000000\n",
       "4  #000426  2015    426  3.084266"
      ],
      "text/html": "<div>\n<style scoped>\n    .dataframe tbody tr th:only-of-type {\n        vertical-align: middle;\n    }\n\n    .dataframe tbody tr th {\n        vertical-align: top;\n    }\n\n    .dataframe thead th {\n        text-align: right;\n    }\n</style>\n<table border=\"1\" class=\"dataframe\">\n  <thead>\n    <tr style=\"text-align: right;\">\n      <th></th>\n      <th>证券代码</th>\n      <th>日期</th>\n      <th>证券代码2</th>\n      <th>entropy</th>\n    </tr>\n  </thead>\n  <tbody>\n    <tr>\n      <th>0</th>\n      <td>#000007</td>\n      <td>2014</td>\n      <td>7</td>\n      <td>3.070462</td>\n    </tr>\n    <tr>\n      <th>1</th>\n      <td>#000403</td>\n      <td>2015</td>\n      <td>403</td>\n      <td>2.790585</td>\n    </tr>\n    <tr>\n      <th>2</th>\n      <td>#000408</td>\n      <td>2016</td>\n      <td>408</td>\n      <td>2.818541</td>\n    </tr>\n    <tr>\n      <th>3</th>\n      <td>#000408</td>\n      <td>2017</td>\n      <td>408</td>\n      <td>0.000000</td>\n    </tr>\n    <tr>\n      <th>4</th>\n      <td>#000426</td>\n      <td>2015</td>\n      <td>426</td>\n      <td>3.084266</td>\n    </tr>\n  </tbody>\n</table>\n</div>"
     },
     "metadata": {},
     "execution_count": 40
    }
   ],
   "source": [
    "df1.head()"
   ]
  }
 ]
}